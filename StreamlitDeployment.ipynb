{
  "nbformat": 4,
  "nbformat_minor": 0,
  "metadata": {
    "colab": {
      "provenance": []
    },
    "kernelspec": {
      "name": "python3",
      "display_name": "Python 3"
    },
    "language_info": {
      "name": "python"
    }
  },
  "cells": [
    {
      "cell_type": "code",
      "execution_count": 24,
      "metadata": {
        "colab": {
          "base_uri": "https://localhost:8080/"
        },
        "id": "_o11bTDzL0Rv",
        "outputId": "751f85a6-bf0d-43da-cece-ec09b54bb9be"
      },
      "outputs": [
        {
          "output_type": "stream",
          "name": "stdout",
          "text": [
            "Drive already mounted at /content/drive; to attempt to forcibly remount, call drive.mount(\"/content/drive\", force_remount=True).\n"
          ]
        }
      ],
      "source": [
        "from google.colab import drive\n",
        "drive.mount('/content/drive')"
      ]
    },
    {
      "cell_type": "code",
      "source": [
        "from tensorflow.keras.models import load_model\n",
        "# Load the trained model\n",
        "model = load_model('/content/drive/MyDrive/Save Model/updatedModel1.h5')\n"
      ],
      "metadata": {
        "colab": {
          "base_uri": "https://localhost:8080/"
        },
        "id": "OLrNZlEsL4Sb",
        "outputId": "9f431627-1155-435a-e8ed-3d7ee04a82ac"
      },
      "execution_count": 25,
      "outputs": [
        {
          "output_type": "stream",
          "name": "stderr",
          "text": [
            "WARNING:absl:Compiled the loaded model, but the compiled metrics have yet to be built. `model.compile_metrics` will be empty until you train or evaluate the model.\n"
          ]
        }
      ]
    },
    {
      "cell_type": "code",
      "source": [
        "from tensorflow.keras.preprocessing.image import load_img, img_to_array\n",
        "import numpy as np\n",
        "import matplotlib.pyplot as plt\n",
        "import os\n",
        "\n",
        "def detect_and_display(img_path, model, train_dir, image_size=128):\n",
        "\n",
        "    class_labels = sorted(os.listdir(train_dir))  # Ensure label order\n",
        "\n",
        "    try:\n",
        "        img = load_img(img_path, target_size=(image_size, image_size), color_mode=\"rgb\")\n",
        "        img_array = img_to_array(img) / 255.0\n",
        "        img_array = np.expand_dims(img_array, axis=0)\n",
        "\n",
        "        predictions = model.predict(img_array)\n",
        "        predicted_class_index = np.argmax(predictions, axis=1)[0]\n",
        "        confidence_score = predictions[0][predicted_class_index]\n",
        "\n",
        "        result = \"No Tumor\" if class_labels[predicted_class_index] == 'notumor' else f\"Tumor: {class_labels[predicted_class_index]}\"\n",
        "\n",
        "        plt.imshow(load_img(img_path))\n",
        "        plt.axis('off')\n",
        "        plt.title(f\"{result} (Confidence: {confidence_score * 100:.2f}%)\")\n",
        "        plt.show()\n",
        "\n",
        "    except Exception as e:\n",
        "        print(\"Error processing the image:\", str(e))"
      ],
      "metadata": {
        "id": "nGI199PVMJOd"
      },
      "execution_count": 26,
      "outputs": []
    },
    {
      "cell_type": "code",
      "source": [
        "!pip install streamlit -q"
      ],
      "metadata": {
        "id": "_2uynrsAMQDC"
      },
      "execution_count": 27,
      "outputs": []
    },
    {
      "cell_type": "code",
      "source": [
        "!wget -q -O - ipv4.icanhazip.com"
      ],
      "metadata": {
        "colab": {
          "base_uri": "https://localhost:8080/"
        },
        "id": "LirKYhHoU6sj",
        "outputId": "70a6b1c8-cd08-4f38-a54e-32ee07eb3973"
      },
      "execution_count": 28,
      "outputs": [
        {
          "output_type": "stream",
          "name": "stdout",
          "text": [
            "34.91.75.15\n"
          ]
        }
      ]
    },
    {
      "cell_type": "code",
      "source": [
        "%%writefile app.py\n",
        "# Streamlit application code for deployment\n",
        "import streamlit as st\n",
        "import os\n",
        "import numpy as np\n",
        "from tensorflow.keras.models import load_model\n",
        "from tensorflow.keras.preprocessing.image import load_img, img_to_array\n",
        "from PIL import Image\n",
        "\n",
        "train_dir = '/content/drive/MyDrive/tumor/Training/'\n",
        "# Get a sorted list of class labels (ensuring consistent mapping)\n",
        "class_labels = sorted(os.listdir(train_dir))\n",
        "\n",
        "# Cache the model so that it loads only once\n",
        "@st.cache_resource\n",
        "def load_trained_model():\n",
        "    model = load_model('/content/drive/MyDrive/Save Model/updatedModel1.h5')\n",
        "    return model\n",
        "\n",
        "model = load_trained_model()\n",
        "\n",
        "# Function to preprocess the image (similar to your open_images and augment functions)\n",
        "def preprocess_image(image, image_size=128):\n",
        "    img = image.convert(\"RGB\")\n",
        "    img = img.resize((image_size, image_size))\n",
        "    # Convert to numpy array and normalize pixel values to [0,1]\n",
        "    img_array = img_to_array(img) / 255.0\n",
        "    # Expand dimensions to create a batch of 1\n",
        "    img_array = np.expand_dims(img_array, axis=0)\n",
        "    return img_array\n",
        "\n",
        "# Prediction function (correlates with your detect_and_display)\n",
        "def predict_tumor(image, model, image_size=128):\n",
        "    img_array = preprocess_image(image, image_size)\n",
        "    predictions = model.predict(img_array)\n",
        "    predicted_class_index = np.argmax(predictions, axis=1)[0]\n",
        "    confidence_score = predictions[0][predicted_class_index]\n",
        "\n",
        "    # Use lower-case check to handle potential case mismatches\n",
        "    if class_labels[predicted_class_index].lower() == 'notumor':\n",
        "        result = \"No Tumor\"\n",
        "    else:\n",
        "        result = f\"Tumor: {class_labels[predicted_class_index]}\"\n",
        "\n",
        "    return result, confidence_score\n",
        "\n",
        "# Streamlit app\n",
        "def main():\n",
        "    st.title(\"Tumor Detection Application\")\n",
        "    st.write(\"Upload an image and the model will predict whether a tumor is present.\")\n",
        "\n",
        "    uploaded_file = st.file_uploader(\"Choose an image file...\", type=[\"jpg\", \"jpeg\", \"png\"])\n",
        "    if uploaded_file is not None:\n",
        "        # Open the image using PIL and display it\n",
        "        image = Image.open(uploaded_file)\n",
        "        st.image(image, caption=\"Uploaded Image\", use_container_width=True)\n",
        "\n",
        "        if st.button(\"Run Prediction\"):\n",
        "            result, confidence = predict_tumor(image, model)\n",
        "            confidence_percent = confidence * 100\n",
        "\n",
        "            st.markdown(f\"### Prediction: **{result}**\")\n",
        "            st.markdown(f\"### Confidence: **{confidence_percent:.2f}%**\")\n",
        "\n",
        "            # Provide feedback based on prediction and confidence\n",
        "            if result == \"No Tumor\":\n",
        "                if confidence > 0.7:\n",
        "                    st.success(\"The model is highly confident that there is no tumor.\")\n",
        "                else:\n",
        "                    st.warning(\"The model predicts no tumor, but confidence is moderate.\")\n",
        "            else:\n",
        "                if confidence > 0.7:\n",
        "                    st.error(\"The model predicts a tumor with high confidence!\")\n",
        "                else:\n",
        "                    st.warning(\"The model predicts a tumor, but confidence is moderate.\")\n",
        "\n",
        "if __name__ == '__main__':\n",
        "    main()\n"
      ],
      "metadata": {
        "colab": {
          "base_uri": "https://localhost:8080/"
        },
        "id": "aumMoswjVBRP",
        "outputId": "2d11dba5-3e44-488b-af40-b4b6e58e803b"
      },
      "execution_count": 29,
      "outputs": [
        {
          "output_type": "stream",
          "name": "stdout",
          "text": [
            "Overwriting app.py\n"
          ]
        }
      ]
    },
    {
      "cell_type": "code",
      "source": [
        "!streamlit run app.py & npx localtunnel --port 8501"
      ],
      "metadata": {
        "colab": {
          "base_uri": "https://localhost:8080/"
        },
        "id": "wlR9_MkdVB4V",
        "outputId": "2ca714da-65c8-4f99-ce4b-49febee14843"
      },
      "execution_count": null,
      "outputs": [
        {
          "output_type": "stream",
          "name": "stdout",
          "text": [
            "\n",
            "Collecting usage statistics. To deactivate, set browser.gatherUsageStats to false.\n",
            "\u001b[0m\n",
            "\u001b[1G\u001b[0K⠙\u001b[1G\u001b[0K⠹\u001b[0m\n",
            "\u001b[34m\u001b[1m  You can now view your Streamlit app in your browser.\u001b[0m\n",
            "\u001b[0m\n",
            "\u001b[34m  Local URL: \u001b[0m\u001b[1mhttp://localhost:8501\u001b[0m\n",
            "\u001b[34m  Network URL: \u001b[0m\u001b[1mhttp://172.28.0.12:8501\u001b[0m\n",
            "\u001b[34m  External URL: \u001b[0m\u001b[1mhttp://34.91.75.15:8501\u001b[0m\n",
            "\u001b[0m\n",
            "\u001b[1G\u001b[0K⠸\u001b[1G\u001b[0K⠼\u001b[1G\u001b[0K⠴\u001b[1G\u001b[0Kyour url is: https://better-shoes-build.loca.lt\n",
            "2025-02-21 11:49:54.981628: E external/local_xla/xla/stream_executor/cuda/cuda_fft.cc:477] Unable to register cuFFT factory: Attempting to register factory for plugin cuFFT when one has already been registered\n",
            "WARNING: All log messages before absl::InitializeLog() is called are written to STDERR\n",
            "E0000 00:00:1740138595.029261   11290 cuda_dnn.cc:8310] Unable to register cuDNN factory: Attempting to register factory for plugin cuDNN when one has already been registered\n",
            "E0000 00:00:1740138595.042766   11290 cuda_blas.cc:1418] Unable to register cuBLAS factory: Attempting to register factory for plugin cuBLAS when one has already been registered\n",
            "2025-02-21 11:50:02.095687: E external/local_xla/xla/stream_executor/cuda/cuda_driver.cc:152] failed call to cuInit: INTERNAL: CUDA error: Failed call to cuInit: UNKNOWN ERROR (303)\n",
            "WARNING:absl:Compiled the loaded model, but the compiled metrics have yet to be built. `model.compile_metrics` will be empty until you train or evaluate the model.\n",
            "\u001b[1m1/1\u001b[0m \u001b[32m━━━━━━━━━━━━━━━━━━━━\u001b[0m\u001b[37m\u001b[0m \u001b[1m0s\u001b[0m 292ms/step\n"
          ]
        }
      ]
    },
    {
      "cell_type": "code",
      "source": [],
      "metadata": {
        "id": "bOPwqqmRVEH2"
      },
      "execution_count": null,
      "outputs": []
    }
  ]
}